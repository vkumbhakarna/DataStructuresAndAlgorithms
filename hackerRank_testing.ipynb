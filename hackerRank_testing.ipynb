{
 "cells": [
  {
   "cell_type": "code",
   "execution_count": 17,
   "metadata": {},
   "outputs": [
    {
     "name": "stdout",
     "output_type": "stream",
     "text": [
      "5\n",
      "0 -2 4\n",
      "1 -1 1\n",
      "2 0 0\n",
      "3 1 1\n",
      "4 2 4\n",
      "[]\n"
     ]
    }
   ],
   "source": [
    "A=[-2,-1,0,1,2]\n",
    "print(len(A))\n",
    "i=0\n",
    "squares = []\n",
    "while i < len(A):\n",
    "    #squares[i] = A[i] * A[i]\n",
    "    #i+=1\n",
    "    print(i,A[i],A[i]*A[i],A)\n",
    "    i+=1\n",
    "\n",
    "print(squares)"
   ]
  },
  {
   "cell_type": "code",
   "execution_count": 11,
   "metadata": {},
   "outputs": [
    {
     "name": "stdout",
     "output_type": "stream",
     "text": [
      "5\n",
      "-2\n",
      "2\n"
     ]
    }
   ],
   "source": [
    "A=[-2,-1,0,1,2]\n",
    "print(len(A))\n",
    "print(A[0])\n",
    "print(A[4])"
   ]
  },
  {
   "cell_type": "code",
   "execution_count": 23,
   "metadata": {},
   "outputs": [
    {
     "name": "stdout",
     "output_type": "stream",
     "text": [
      "2\n"
     ]
    }
   ],
   "source": [
    "i=int(5)\n",
    "print(int(i/2))"
   ]
  },
  {
   "cell_type": "code",
   "execution_count": 24,
   "metadata": {},
   "outputs": [
    {
     "name": "stdout",
     "output_type": "stream",
     "text": [
      "[-2, -1, 0, 1, 2]\n"
     ]
    },
    {
     "data": {
      "text/plain": [
       "-2"
      ]
     },
     "execution_count": 24,
     "metadata": {},
     "output_type": "execute_result"
    }
   ],
   "source": [
    "print(A)\n",
    "A.pop(0)"
   ]
  },
  {
   "cell_type": "code",
   "execution_count": 25,
   "metadata": {},
   "outputs": [
    {
     "name": "stdout",
     "output_type": "stream",
     "text": [
      "[-1, 0, 1, 2]\n"
     ]
    }
   ],
   "source": [
    "print(A)"
   ]
  },
  {
   "cell_type": "code",
   "execution_count": 27,
   "metadata": {},
   "outputs": [
    {
     "data": {
      "text/plain": [
       "2"
      ]
     },
     "execution_count": 27,
     "metadata": {},
     "output_type": "execute_result"
    }
   ],
   "source": [
    "A.pop()"
   ]
  },
  {
   "cell_type": "code",
   "execution_count": 28,
   "metadata": {},
   "outputs": [
    {
     "name": "stdout",
     "output_type": "stream",
     "text": [
      "[-1, 0, 1]\n"
     ]
    }
   ],
   "source": [
    "print(A)"
   ]
  },
  {
   "cell_type": "code",
   "execution_count": 29,
   "metadata": {},
   "outputs": [
    {
     "name": "stdout",
     "output_type": "stream",
     "text": [
      "1\n",
      "2\n",
      "3\n",
      "4\n"
     ]
    }
   ],
   "source": [
    "for i in range(1,5):\n",
    "    print(i) "
   ]
  },
  {
   "cell_type": "code",
   "execution_count": 56,
   "metadata": {},
   "outputs": [
    {
     "name": "stdout",
     "output_type": "stream",
     "text": [
      "Hce akr\n",
      "Rn ak\n"
     ]
    }
   ],
   "source": [
    "Se=str()\n",
    "So=str()\n",
    "S1='Hacker'\n",
    "S2='Rank'\n",
    "\n",
    "for i in range(len(S1)):\n",
    "    if i % 2 == 0:\n",
    "        #print(S[i])\n",
    "        Se+=S1[i]\n",
    "    else:\n",
    "        #print(S[i])\n",
    "        So+=S1[i]\n",
    "\n",
    "print(Se + ' ' +So)\n",
    "i=0\n",
    "Se=''\n",
    "So=''\n",
    "for i in range(len(S2)):\n",
    "    if i % 2 == 0:\n",
    "        #print(S[i])\n",
    "        Se+=S2[i]\n",
    "    else:\n",
    "        #print(S[i])\n",
    "        So+=S2[i]\n",
    "print(Se + ' ' +So)"
   ]
  },
  {
   "cell_type": "code",
   "execution_count": 46,
   "metadata": {},
   "outputs": [
    {
     "name": "stdout",
     "output_type": "stream",
     "text": [
      "['Hacker', 'Rank']\n"
     ]
    },
    {
     "data": {
      "text/plain": [
       "list"
      ]
     },
     "execution_count": 46,
     "metadata": {},
     "output_type": "execute_result"
    }
   ],
   "source": [
    "S1='Hacker'\n",
    "S2='Rank'\n",
    "S=[S1,S2]\n",
    "print(S)\n",
    "type(S)\n",
    "\n"
   ]
  }
 ],
 "metadata": {
  "kernelspec": {
   "display_name": "Python 3",
   "language": "python",
   "name": "python3"
  },
  "language_info": {
   "codemirror_mode": {
    "name": "ipython",
    "version": 3
   },
   "file_extension": ".py",
   "mimetype": "text/x-python",
   "name": "python",
   "nbconvert_exporter": "python",
   "pygments_lexer": "ipython3",
   "version": "3.7.3"
  }
 },
 "nbformat": 4,
 "nbformat_minor": 2
}
